{
  "nbformat": 4,
  "nbformat_minor": 0,
  "metadata": {
    "colab": {
      "provenance": [],
      "authorship_tag": "ABX9TyM2dMz+9EnLskQcOXqg0xM2",
      "include_colab_link": true
    },
    "kernelspec": {
      "name": "python3",
      "display_name": "Python 3"
    },
    "language_info": {
      "name": "python"
    }
  },
  "cells": [
    {
      "cell_type": "markdown",
      "metadata": {
        "id": "view-in-github",
        "colab_type": "text"
      },
      "source": [
        "<a href=\"https://colab.research.google.com/github/wontwopunch/colab/blob/master/remind_python.ipynb\" target=\"_parent\"><img src=\"https://colab.research.google.com/assets/colab-badge.svg\" alt=\"Open In Colab\"/></a>"
      ]
    },
    {
      "cell_type": "code",
      "execution_count": null,
      "metadata": {
        "colab": {
          "base_uri": "https://localhost:8080/"
        },
        "id": "1NRkMN9ELBHd",
        "outputId": "d7435b48-7b5f-467d-820a-caada122904e"
      },
      "outputs": [
        {
          "output_type": "stream",
          "name": "stdout",
          "text": [
            "{'Rolf'}\n",
            "set()\n",
            "{'Anne', 'Rolf', 'Bob'}\n",
            "{'Jen', 'Boby'}\n"
          ]
        }
      ],
      "source": [
        "# set\n",
        "\n",
        "friends = {\"Bob\", \"Rolf\", \"Anne\"}\n",
        "abroad = {\"Bob\", \"Anne\"}\n",
        "\n",
        "# Bob과 Anne이 해외에 있다면 Rolf는 해외에 없을 테니\n",
        "# 현지 친구들과 Rolf는 한 세트\n",
        "# 단일 요소로 세트를 정의하는 방법\n",
        "\n",
        "# difference\n",
        "local_friends = friends.difference(abroad) # 두 세트의 차이를 계산 friends를 시작점으로 해서\n",
        "print(local_friends)\n",
        "\n",
        "local_friends = abroad.difference(friends) # 두 세트의 차이를 계산 friends를 시작점으로 해서\n",
        "print(local_friends)\n",
        "\n",
        "# union\n",
        "union_friends = friends.union(abroad)\n",
        "print(union_friends)\n",
        "\n",
        "art = {\"Boby\", \"Jen\", \"Charlie\"}\n",
        "science = {\"Boby\", \"Jen\", \"Adam\", \"Anne\"}\n",
        "\n",
        "# intersection\n",
        "both = art.intersection(science)\n",
        "print(both)"
      ]
    },
    {
      "cell_type": "code",
      "source": [
        "# Lambda functions\n",
        "# 입력을 받고 출력을 반환\n",
        "\n",
        "#def add(x,y):\n",
        "#  return x+y\n",
        "\n",
        "# 이름없는 함수, 맵과 함께 사용\n",
        "# ()으로 묶으면 단일 유닛으로 처리\n",
        "(lambda x,y: x+y)(5,7)"
      ],
      "metadata": {
        "colab": {
          "base_uri": "https://localhost:8080/"
        },
        "id": "xdwe5Yw0o-Fi",
        "outputId": "137f6175-7730-47fd-de74-4b614a639670"
      },
      "execution_count": 1,
      "outputs": [
        {
          "output_type": "execute_result",
          "data": {
            "text/plain": [
              "12"
            ]
          },
          "metadata": {},
          "execution_count": 1
        }
      ]
    },
    {
      "cell_type": "code",
      "source": [
        "# *args\n",
        "def multiply(*args):\n",
        "  print(args)\n",
        "\n",
        "multiply(1,3,5)"
      ],
      "metadata": {
        "colab": {
          "base_uri": "https://localhost:8080/"
        },
        "id": "Yvoop9c7Vrp4",
        "outputId": "150a085b-3474-47a3-a0e8-9dced7f9b1a6"
      },
      "execution_count": 3,
      "outputs": [
        {
          "output_type": "stream",
          "name": "stdout",
          "text": [
            "(1, 3, 5)\n"
          ]
        }
      ]
    },
    {
      "cell_type": "code",
      "source": [
        "# *args\n",
        "def multiply(*args):\n",
        "  total = 1\n",
        "  for arg in args:\n",
        "    total = total * arg\n",
        "\n",
        "  return total\n",
        "\n",
        "print(multiply(1,3,5))"
      ],
      "metadata": {
        "colab": {
          "base_uri": "https://localhost:8080/"
        },
        "id": "clgxi6JnV3QD",
        "outputId": "07ce48ac-9268-4af7-c5c4-3c2ac32c5725"
      },
      "execution_count": 7,
      "outputs": [
        {
          "output_type": "stream",
          "name": "stdout",
          "text": [
            "15\n"
          ]
        }
      ]
    },
    {
      "cell_type": "code",
      "source": [
        "def add(x,y):\n",
        "  return x+y\n",
        "\n",
        "nums = [3,5]\n",
        "print(add(*nums))"
      ],
      "metadata": {
        "colab": {
          "base_uri": "https://localhost:8080/"
        },
        "id": "Wj_r-Cj-WZn3",
        "outputId": "eb60cfc6-ffa0-4390-9686-bb0c0eab77ac"
      },
      "execution_count": 9,
      "outputs": [
        {
          "output_type": "stream",
          "name": "stdout",
          "text": [
            "8\n"
          ]
        }
      ]
    },
    {
      "cell_type": "code",
      "source": [
        "def add(x,y):\n",
        "  return x+y\n",
        "\n",
        "nums = {\"x\":15, \"y\":25}\n",
        "print(add(**nums))"
      ],
      "metadata": {
        "colab": {
          "base_uri": "https://localhost:8080/"
        },
        "id": "sWoKiYAhWiMg",
        "outputId": "3c7e50d8-8c4a-4b18-b21e-dc0a7d619447"
      },
      "execution_count": 11,
      "outputs": [
        {
          "output_type": "stream",
          "name": "stdout",
          "text": [
            "40\n"
          ]
        }
      ]
    },
    {
      "cell_type": "code",
      "source": [
        "# **kwargs\n",
        "\n",
        "def named(**kwargs):\n",
        "  print(kwargs)\n",
        "\n",
        "named(name=\"Bob\", age=25)"
      ],
      "metadata": {
        "colab": {
          "base_uri": "https://localhost:8080/"
        },
        "id": "1nthfaPEWqcR",
        "outputId": "f50c33d6-63a9-46f3-90ae-f1ba3f82920b"
      },
      "execution_count": 13,
      "outputs": [
        {
          "output_type": "stream",
          "name": "stdout",
          "text": [
            "{'name': 'Bob', 'age': 25}\n"
          ]
        }
      ]
    },
    {
      "cell_type": "code",
      "source": [
        "# 객체지향\n",
        "\n",
        "class Student:\n",
        "  def __init__(self, name, *grades):\n",
        "    self.name = name\n",
        "    self.grades = grades\n",
        "\n",
        "  # 객체지향의 멋진 기능\n",
        "  def average_grade(self):\n",
        "    return sum(self.grades) / len(self.grades)\n",
        "\n",
        "student1 = Student(\"Bob\", 90, 70, 80)\n",
        "print(student1.average_grade())        # 평균 성적 출력"
      ],
      "metadata": {
        "colab": {
          "base_uri": "https://localhost:8080/"
        },
        "id": "nAhw6zcHYGrz",
        "outputId": "7066a5e3-ed0f-4287-901a-3ae54fa24461"
      },
      "execution_count": 16,
      "outputs": [
        {
          "output_type": "stream",
          "name": "stdout",
          "text": [
            "80.0\n"
          ]
        }
      ]
    }
  ]
}